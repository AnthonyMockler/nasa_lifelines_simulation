{
 "cells": [
  {
   "cell_type": "code",
   "execution_count": 35,
   "metadata": {},
   "outputs": [],
   "source": [
    "import geopandas as gpd\n",
    "import h3\n",
    "import pandas as pd"
   ]
  },
  {
   "cell_type": "code",
   "execution_count": 22,
   "metadata": {},
   "outputs": [],
   "source": [
    "aoi = gpd.read_file(\"../All_Baseline/Boundaries/Simulation_AOI.geojson\")"
   ]
  },
  {
   "cell_type": "code",
   "execution_count": 23,
   "metadata": {},
   "outputs": [],
   "source": [
    "kontur_population = gpd.read_file(\n",
    "    \"../All_Baseline/Population_Demographics/kontur_population_CD_20231101.gpkg\"\n",
    ")"
   ]
  },
  {
   "cell_type": "code",
   "execution_count": 25,
   "metadata": {},
   "outputs": [],
   "source": [
    "h3_in_aoi = h3.geo_to_cells(aoi.geometry[0], 8)\n",
    "h3_in_aoi = pd.Series(h3_in_aoi)"
   ]
  },
  {
   "cell_type": "code",
   "execution_count": 39,
   "metadata": {},
   "outputs": [],
   "source": [
    "filtered_kontur_population = kontur_population[kontur_population[\"h3\"].isin(h3_in_aoi)]"
   ]
  },
  {
   "cell_type": "code",
   "execution_count": 42,
   "metadata": {},
   "outputs": [],
   "source": [
    "filtered_kontur_population[[\"h3\", \"population\"]].to_csv(\n",
    "    \"../working_data/kontur_population.csv\", index=False\n",
    ")\n",
    "filtered_kontur_population[[\"h3\", \"population\"]].to_parquet(\n",
    "    \"../working_data/kontur_population.parquet\", index=False\n",
    ")"
   ]
  }
 ],
 "metadata": {
  "kernelspec": {
   "display_name": "nasa",
   "language": "python",
   "name": "python3"
  },
  "language_info": {
   "codemirror_mode": {
    "name": "ipython",
    "version": 3
   },
   "file_extension": ".py",
   "mimetype": "text/x-python",
   "name": "python",
   "nbconvert_exporter": "python",
   "pygments_lexer": "ipython3",
   "version": "3.10.15"
  }
 },
 "nbformat": 4,
 "nbformat_minor": 2
}
